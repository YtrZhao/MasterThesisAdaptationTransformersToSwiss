{
  "nbformat": 4,
  "nbformat_minor": 0,
  "metadata": {
    "colab": {
      "provenance": []
    },
    "kernelspec": {
      "name": "python3",
      "display_name": "Python 3"
    },
    "language_info": {
      "name": "python"
    }
  },
  "cells": [
    {
      "cell_type": "code",
      "source": [
        "#Subword fertility and proportion of continued word\n",
        "from transformers import AutoModelForSequenceClassification, AutoTokenizer\n",
        "task_corpus=train_texts+val_texts+test_texts\n",
        "tokenizer = AutoTokenizer.from_pretrained(\"deepset/gbert-base\")\n",
        "wordNum=0\n",
        "continued_words=0\n",
        "for sent in task_corpus:\n",
        "  wordNum+=len(sent.split(\" \"))\n",
        "total_tokens = 0\n",
        "for sentence in task_corpus:\n",
        "        tokens = tokenizer.tokenize(sentence)\n",
        "        for i in range(1, len(tokens)):\n",
        "          if tokens[i].startswith(\"##\"):\n",
        "            continued_words += 1\n",
        "        total_tokens += len(tokens)\n",
        "\n",
        "total_tokens/wordNum\n",
        "continued_words/total_tokens"
      ],
      "metadata": {
        "id": "DDEx2Pgd-daJ"
      },
      "execution_count": null,
      "outputs": []
    },
    {
      "cell_type": "code",
      "source": [
        "total_tokens/wordNum"
      ],
      "metadata": {
        "id": "z1E60n0PyBe1"
      },
      "execution_count": null,
      "outputs": []
    },
    {
      "cell_type": "code",
      "source": [
        "task_corpus=train_texts+val_texts+test_texts\n",
        "tokenizer = AutoTokenizer.from_pretrained(\"xlm-roberta-base\")\n",
        "wordNum=0\n",
        "continued_words=0\n",
        "for sent in task_corpus:\n",
        "  wordNum+=len(sent.split(\" \"))\n",
        "total_tokens = 0\n",
        "for sentence in task_corpus:\n",
        "        tokens = tokenizer.tokenize(sentence)\n",
        "        for i in range(1, len(tokens)):\n",
        "          if not tokens[i].startswith(\"▁\"):\n",
        "            continued_words += 1\n",
        "        total_tokens += len(tokens)\n",
        "total_tokens/wordNum\n",
        "continued_words/total_tokens"
      ],
      "metadata": {
        "id": "7CPOh1ea0MKg"
      },
      "execution_count": null,
      "outputs": []
    },
    {
      "cell_type": "code",
      "source": [
        "total_tokens/wordNum"
      ],
      "metadata": {
        "id": "FI5E6ZNl0Oag"
      },
      "execution_count": null,
      "outputs": []
    }
  ]
}